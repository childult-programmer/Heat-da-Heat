{
 "cells": [
  {
   "cell_type": "code",
   "execution_count": 1,
   "metadata": {},
   "outputs": [],
   "source": [
    "import os\n",
    "import shutil\n",
    "import json\n",
    "import pickle\n",
    "from pprint import pprint\n",
    "from tqdm import tqdm\n",
    "\n",
    "from collections import defaultdict"
   ]
  },
  {
   "cell_type": "code",
   "execution_count": 2,
   "metadata": {},
   "outputs": [],
   "source": [
    "def read_annotation(anno_path):\n",
    "    with open(anno_path) as f:\n",
    "        try:\n",
    "            annotation = json.load(f)\n",
    "            # pprint.pprint(annotation)\n",
    "        except json.decoder.JSONDecodeError:\n",
    "            print('The string dose NOT contain valid JSON')\n",
    "    \n",
    "    return annotation"
   ]
  },
  {
   "cell_type": "code",
   "execution_count": 3,
   "metadata": {},
   "outputs": [],
   "source": [
    "TRAIN_PATH = '../../json/dataset/train.pkl'\n",
    "TEST_PATH = '../../json/dataset/test.pkl'\n",
    "\n",
    "with open(TRAIN_PATH, 'rb') as f:\n",
    "    train = pickle.load(f)\n",
    "    \n",
    "with open(TEST_PATH, 'rb') as f:\n",
    "    test = pickle.load(f)"
   ]
  },
  {
   "cell_type": "code",
   "execution_count": 4,
   "metadata": {},
   "outputs": [],
   "source": [
    "train_annotations = list()\n",
    "test_annotations = list()\n",
    "\n",
    "for _, _, _, anno in train:\n",
    "    train_annotations.append(anno)\n",
    "    \n",
    "for _, _, _, anno in test:\n",
    "    test_annotations.append(anno)"
   ]
  },
  {
   "cell_type": "code",
   "execution_count": 6,
   "metadata": {},
   "outputs": [],
   "source": [
    "train_dict = dict()\n",
    "facilities = set()\n",
    "\n",
    "facility, normal, abnormal = 0, 0, 0\n",
    "\n",
    "normal_facility = list()\n",
    "abnormal_facility = list()\n",
    "\n",
    "for i, anno_path in enumerate(train_annotations):\n",
    "    anno = read_annotation(anno_path)\n",
    "    if i % 400 == 0:\n",
    "        facility, normal, abnormal = 0, 0, 0\n",
    "        \n",
    "    name = anno_path.split('/', maxsplit=6)[-1].rsplit('/', maxsplit=1)[0]\n",
    "    facilities.add(name)\n",
    "    \n",
    "    for ano in anno['annotations']:\n",
    "        facility += 1\n",
    "        if ano['attributes']['status'] == 'normal':\n",
    "            normal += 1\n",
    "            normal_facility.append(anno_path)\n",
    "        elif ano['attributes']['status'] == 'danger':\n",
    "            abnormal += 1\n",
    "            abnormal_facility.append(anno_path)\n",
    "        else:\n",
    "            raise ValueError(\"Found Missing Class!\")\n",
    "\n",
    "    train_dict[name] = f'normal: {normal} | danger: {abnormal}, facilities: {facility}'"
   ]
  },
  {
   "cell_type": "code",
   "execution_count": 11,
   "metadata": {},
   "outputs": [],
   "source": [
    "# normal case facility save to json\n",
    "normal_path = '../../json/normal_case.json'\n",
    "\n",
    "with open(normal_path, 'w+') as f:\n",
    "    json.dump(normal_facility, f, ensure_ascii=False, indent=4)"
   ]
  },
  {
   "cell_type": "code",
   "execution_count": 12,
   "metadata": {},
   "outputs": [],
   "source": [
    "# abnormal case facility save to json\n",
    "abnormal_path = '../../json/abnormal_case.json'\n",
    "\n",
    "with open(abnormal_path, 'w+') as f:\n",
    "    json.dump(abnormal_facility, f, ensure_ascii=False, indent=4)"
   ]
  },
  {
   "cell_type": "code",
   "execution_count": 13,
   "metadata": {},
   "outputs": [],
   "source": [
    "test_dict = dict()\n",
    "facility, normal, abnormal = 0, 0, 0\n",
    "\n",
    "normal_facility = list()\n",
    "abnormal_facility = list()\n",
    "\n",
    "for i, anno_path in enumerate(test_annotations):\n",
    "    anno = read_annotation(anno_path)\n",
    "    if i % 100 == 0:\n",
    "        facility, normal, abnormal = 0, 0, 0\n",
    "        \n",
    "    name = anno_path.split('/', maxsplit=6)[-1].rsplit('/', maxsplit=1)[0]\n",
    "    \n",
    "    for ano in anno['annotations']:\n",
    "        facility += 1\n",
    "        if ano['attributes']['status'] == 'normal':\n",
    "            normal += 1\n",
    "        elif ano['attributes']['status'] == 'danger':\n",
    "            abnormal += 1\n",
    "        else:\n",
    "            raise ValueError(\"Found Missing Class!\")\n",
    "\n",
    "    test_dict[name] = f'normal: {normal} | danger: {abnormal}, facilities: {facility}'"
   ]
  },
  {
   "cell_type": "code",
   "execution_count": 14,
   "metadata": {},
   "outputs": [
    {
     "name": "stdout",
     "output_type": "stream",
     "text": [
      "{'1.서부발전/1.고압전동기': 'normal: 360 | danger: 88, facilities: 448',\n",
      " '1.서부발전/2.차단기': 'normal: 1153 | danger: 168, facilities: 1321',\n",
      " '1.서부발전/3.변압기 접속부': 'normal: 968 | danger: 86, facilities: 1054',\n",
      " '2.변전소/1.단로기(DS)': 'normal: 1247 | danger: 113, facilities: 1360',\n",
      " '2.변전소/2.계기용변성기(MOF)': 'normal: 1070 | danger: 125, facilities: 1195',\n",
      " '2.변전소/3.변압기 케이블 연결개소 포함': 'normal: 1091 | danger: 133, facilities: 1224',\n",
      " '2.변전소/4.계기용변압기(PT)': 'normal: 660 | danger: 178, facilities: 838',\n",
      " '2.변전소/6.전자접촉기': 'normal: 2832 | danger: 141, facilities: 2973',\n",
      " '2.변전소/7.케이블&부스 연결개소': 'normal: 1136 | danger: 78, facilities: 1214'}\n"
     ]
    }
   ],
   "source": [
    "pprint(train_dict)"
   ]
  },
  {
   "cell_type": "code",
   "execution_count": 15,
   "metadata": {},
   "outputs": [
    {
     "name": "stdout",
     "output_type": "stream",
     "text": [
      "{'1.서부발전/1.고압전동기': 'normal: 87 | danger: 26, facilities: 113',\n",
      " '1.서부발전/2.차단기': 'normal: 317 | danger: 27, facilities: 344',\n",
      " '1.서부발전/3.변압기 접속부': 'normal: 237 | danger: 29, facilities: 266',\n",
      " '2.변전소/1.단로기(DS)': 'normal: 322 | danger: 20, facilities: 342',\n",
      " '2.변전소/2.계기용변성기(MOF)': 'normal: 278 | danger: 21, facilities: 299',\n",
      " '2.변전소/3.변압기 케이블 연결개소 포함': 'normal: 265 | danger: 40, facilities: 305',\n",
      " '2.변전소/4.계기용변압기(PT)': 'normal: 173 | danger: 45, facilities: 218',\n",
      " '2.변전소/6.전자접촉기': 'normal: 693 | danger: 33, facilities: 726',\n",
      " '2.변전소/7.케이블&부스 연결개소': 'normal: 284 | danger: 19, facilities: 303'}\n"
     ]
    }
   ],
   "source": [
    "pprint(test_dict)"
   ]
  },
  {
   "attachments": {},
   "cell_type": "markdown",
   "metadata": {},
   "source": [
    "##### __*save LWIR image*__ #####"
   ]
  },
  {
   "cell_type": "code",
   "execution_count": 33,
   "metadata": {},
   "outputs": [
    {
     "name": "stderr",
     "output_type": "stream",
     "text": [
      "100%|██████████| 3600/3600 [01:03<00:00, 56.40it/s]\n"
     ]
    }
   ],
   "source": [
    "BASE_COPY_PATH = '/data3/datasets/kepco_ai_hub/capstone/train/images/'\n",
    "facilities = sorted(list(facilities))\n",
    "\n",
    "for lwir, _, _, _ in tqdm(train):\n",
    "    # facilities\n",
    "    path_name = lwir.split('/', maxsplit=6)[-1].rsplit('/', maxsplit=1)\n",
    "    ADD_PATH = path_name[0]\n",
    "    if ADD_PATH not in facilities:\n",
    "        print('NOT FOUND PATH: {ADD_PATH}')\n",
    "    \n",
    "    source = lwir.rsplit('/', maxsplit=1)\n",
    "    src = '\"' + source[0] + '/' + source[1] + '\"'\n",
    "    dest = '\"' + BASE_COPY_PATH + ADD_PATH +  '/' + path_name[1] + '\"'\n",
    "\n",
    "    os.system('sudo cp ' + src + ' ' + dest)"
   ]
  },
  {
   "cell_type": "code",
   "execution_count": 39,
   "metadata": {},
   "outputs": [
    {
     "name": "stderr",
     "output_type": "stream",
     "text": [
      "100%|██████████| 3600/3600 [00:53<00:00, 67.51it/s]\n"
     ]
    }
   ],
   "source": [
    "BASE_COPY_PATH = '/data3/datasets/kepco_ai_hub/capstone/train/annotations/'\n",
    "facilities = sorted(list(facilities))\n",
    "\n",
    "for _, _, _, annotation in tqdm(train):\n",
    "    # facilities\n",
    "    path_name = annotation.split('/', maxsplit=6)[-1].rsplit('/', maxsplit=1)\n",
    "    ADD_PATH = path_name[0]\n",
    "    if ADD_PATH not in facilities:\n",
    "        print('NOT FOUND PATH: {ADD_PATH}')\n",
    "    \n",
    "    source = annotation.rsplit('/', maxsplit=1)\n",
    "    src = '\"' + source[0] + '/' + source[1] + '\"'\n",
    "    dest = '\"' + BASE_COPY_PATH + ADD_PATH +  '/' + path_name[1] + '\"'\n",
    "\n",
    "    os.system('sudo cp -rf ' + src + ' ' + dest)"
   ]
  },
  {
   "cell_type": "code",
   "execution_count": 17,
   "metadata": {},
   "outputs": [
    {
     "name": "stderr",
     "output_type": "stream",
     "text": [
      "100%|██████████| 900/900 [00:17<00:00, 52.47it/s]\n"
     ]
    }
   ],
   "source": [
    "BASE_COPY_PATH = '/data3/datasets/kepco_ai_hub/capstone/test/images/'\n",
    "facilities = sorted(list(facilities))\n",
    "\n",
    "for lwir, _, _, _ in tqdm(test):\n",
    "    # facilities\n",
    "    path_name = lwir.split('/', maxsplit=6)[-1].rsplit('/', maxsplit=1)\n",
    "    ADD_PATH = path_name[0]\n",
    "    if ADD_PATH not in facilities:\n",
    "        print('NOT FOUND PATH: {ADD_PATH}')\n",
    "    \n",
    "    source = lwir.rsplit('/', maxsplit=1)\n",
    "    src = '\"' + source[0] + '/' + source[1] + '\"'\n",
    "    dest = '\"' + BASE_COPY_PATH + ADD_PATH +  '/' + path_name[1] + '\"'\n",
    "\n",
    "    os.system('sudo cp ' + src + ' ' + dest)"
   ]
  },
  {
   "cell_type": "code",
   "execution_count": 18,
   "metadata": {},
   "outputs": [
    {
     "name": "stderr",
     "output_type": "stream",
     "text": [
      "100%|██████████| 900/900 [00:12<00:00, 71.48it/s]\n"
     ]
    }
   ],
   "source": [
    "BASE_COPY_PATH = '/data3/datasets/kepco_ai_hub/capstone/test/annotations/'\n",
    "facilities = sorted(list(facilities))\n",
    "\n",
    "for _, _, _, annotation in tqdm(test):\n",
    "    # facilities\n",
    "    path_name = annotation.split('/', maxsplit=6)[-1].rsplit('/', maxsplit=1)\n",
    "    ADD_PATH = path_name[0]\n",
    "    if ADD_PATH not in facilities:\n",
    "        print('NOT FOUND PATH: {ADD_PATH}')\n",
    "    \n",
    "    source = annotation.rsplit('/', maxsplit=1)\n",
    "    src = '\"' + source[0] + '/' + source[1] + '\"'\n",
    "    dest = '\"' + BASE_COPY_PATH + ADD_PATH +  '/' + path_name[1] + '\"'\n",
    "\n",
    "    os.system('sudo cp ' + src + ' ' + dest)"
   ]
  }
 ],
 "metadata": {
  "kernelspec": {
   "display_name": "robot",
   "language": "python",
   "name": "python3"
  },
  "language_info": {
   "codemirror_mode": {
    "name": "ipython",
    "version": 3
   },
   "file_extension": ".py",
   "mimetype": "text/x-python",
   "name": "python",
   "nbconvert_exporter": "python",
   "pygments_lexer": "ipython3",
   "version": "3.7.16"
  },
  "orig_nbformat": 4
 },
 "nbformat": 4,
 "nbformat_minor": 2
}
